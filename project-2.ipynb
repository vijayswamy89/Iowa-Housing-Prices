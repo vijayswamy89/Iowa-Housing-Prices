{
 "cells": [
  {
   "cell_type": "markdown",
   "metadata": {},
   "source": [
    "## Import the Training and Test Data"
   ]
  },
  {
   "cell_type": "code",
   "execution_count": 3,
   "metadata": {},
   "outputs": [
    {
     "name": "stdout",
     "output_type": "stream",
     "text": [
      "Requirement already satisfied: xgboost in /anaconda2/envs/dsi/lib/python3.6/site-packages (0.80)\n",
      "Requirement already satisfied: scipy in /anaconda2/envs/dsi/lib/python3.6/site-packages (from xgboost) (1.1.0)\n",
      "Requirement already satisfied: numpy in /anaconda2/envs/dsi/lib/python3.6/site-packages (from xgboost) (1.14.3)\n",
      "\u001b[31mthinc 6.11.2 requires hypothesis<3,>=2, which is not installed.\u001b[0m\n",
      "\u001b[31mthinc 6.11.2 requires pathlib<2.0.0,>=1.0.0, which is not installed.\u001b[0m\n",
      "\u001b[31mspacy 2.0.11 requires pathlib, which is not installed.\u001b[0m\n",
      "\u001b[31msmart-open 1.6.0 requires bz2file, which is not installed.\u001b[0m\n",
      "\u001b[31mmsgpack-numpy 0.4.3 requires msgpack>=0.3.0, which is not installed.\u001b[0m\n",
      "\u001b[31mdistributed 1.21.8 requires msgpack, which is not installed.\u001b[0m\n",
      "\u001b[31mthinc 6.11.2 has requirement msgpack-numpy==0.4.1, but you'll have msgpack-numpy 0.4.3 which is incompatible.\u001b[0m\n",
      "\u001b[31mthinc 6.11.2 has requirement msgpack-python==0.5.4, but you'll have msgpack-python 0.5.6 which is incompatible.\u001b[0m\n",
      "\u001b[31mspacy 2.0.11 has requirement regex==2017.4.5, but you'll have regex 2018.6.21 which is incompatible.\u001b[0m\n",
      "\u001b[31mspacy 2.0.11 has requirement thinc<6.11.0,>=6.10.1, but you'll have thinc 6.11.2 which is incompatible.\u001b[0m\n",
      "\u001b[31mipywidgets 7.1.0 has requirement widgetsnbextension~=3.1.0, but you'll have widgetsnbextension 3.0.2 which is incompatible.\u001b[0m\n",
      "\u001b[33mCache entry deserialization failed, entry ignored\u001b[0m\n",
      "\u001b[33mYou are using pip version 10.0.1, however version 18.0 is available.\n",
      "You should consider upgrading via the 'pip install --upgrade pip' command.\u001b[0m\n"
     ]
    }
   ],
   "source": [
    "import pandas as pd\n",
    "from matplotlib import pyplot as plt\n",
    "import csv\n",
    "import numpy as np\n",
    "import seaborn as sns\n",
    "from sklearn import linear_model\n",
    "from sklearn.model_selection import train_test_split\n",
    "from sklearn.linear_model import LinearRegression\n",
    "import sklearn.metrics\n",
    "from sklearn.model_selection import cross_val_score\n",
    "from sklearn.preprocessing import StandardScaler\n",
    "from sklearn.ensemble import RandomForestRegressor\n",
    "from sklearn.ensemble import GradientBoostingRegressor\n",
    "from sklearn.model_selection import GridSearchCV\n",
    "from sklearn.linear_model import Ridge, Lasso, ElasticNet, LinearRegression, RidgeCV, LassoCV, ElasticNetCV\n",
    "from sklearn.preprocessing import PolynomialFeatures\n",
    "from sklearn.feature_selection import SelectFromModel\n",
    "from xgboost.sklearn import XGBRegressor\n",
    "from sklearn.preprocessing import StandardScaler\n",
    "import xgboost as xgb\n",
    "import sys\n",
    "!{sys.executable} -m pip install xgboost\n",
    "train = pd.read_csv('/Users/vijayswamy/Outcomes/github-code/Housing_Prices/data/train.csv')\n",
    "test = pd.read_csv('/Users/vijayswamy/Outcomes/github-code/Housing_Prices/data/test.csv')"
   ]
  },
  {
   "cell_type": "markdown",
   "metadata": {},
   "source": [
    "\n",
    "## Numerical Features"
   ]
  },
  {
   "cell_type": "markdown",
   "metadata": {},
   "source": [
    "Feature Engineering"
   ]
  },
  {
   "cell_type": "code",
   "execution_count": 4,
   "metadata": {},
   "outputs": [],
   "source": [
    "#Convert neighborhoods into numerical codes for feature engineering\n",
    "train[\"Neighborhood\"] = pd.Categorical(train[\"Neighborhood\"]).codes\n",
    "train[\"Neighborhood\"] = train[\"Neighborhood\"].astype(int)\n",
    "\n",
    "test[\"Neighborhood\"] = pd.Categorical(test[\"Neighborhood\"]).codes\n",
    "test[\"Neighborhood\"] = test[\"Neighborhood\"].astype(int)\n",
    "\n",
    "#Converted garage quality and conditions into numerical codes for feature engineering\n",
    "train[\"Garage Qual\"] = pd.Categorical(train[\"Garage Qual\"]).codes\n",
    "train[\"Garage Qual\"] = train[\"Garage Qual\"].astype(int)\n",
    "\n",
    "test[\"Garage Qual\"] = pd.Categorical(test[\"Garage Qual\"]).codes\n",
    "test[\"Garage Qual\"] = test[\"Garage Qual\"].astype(int)\n",
    "\n",
    "train[\"Garage Cond\"] = pd.Categorical(train[\"Garage Cond\"]).codes\n",
    "train[\"Garage Cond\"] = train[\"Garage Cond\"].astype(int)\n",
    "\n",
    "test[\"Garage Cond\"] = pd.Categorical(test[\"Garage Cond\"]).codes\n",
    "test[\"Garage Cond\"] = test[\"Garage Cond\"].astype(int)\n",
    "\n",
    "#Basement Quality and Condition\n",
    "train[\"Bsmt Qual\"] = pd.Categorical(train[\"Bsmt Qual\"]).codes\n",
    "train[\"Bsmt Qual\"] = train[\"Bsmt Qual\"].astype(int)\n",
    "\n",
    "test[\"Bsmt Qual\"] = pd.Categorical(test[\"Bsmt Qual\"]).codes\n",
    "test[\"Bsmt Qual\"] = test[\"Bsmt Qual\"].astype(int)\n",
    "\n",
    "train[\"Bsmt Cond\"] = pd.Categorical(train[\"Bsmt Cond\"]).codes\n",
    "train[\"Bsmt Cond\"] = train[\"Bsmt Cond\"].astype(int)\n",
    "\n",
    "test[\"Bsmt Cond\"] = pd.Categorical(test[\"Bsmt Cond\"]).codes\n",
    "test[\"Bsmt Cond\"] = test[\"Bsmt Cond\"].astype(int)\n",
    "\n",
    "#Basement Exposure\n",
    "train[\"Bsmt Exposure\"] = pd.Categorical(train[\"Bsmt Exposure\"]).codes\n",
    "train[\"Bsmt Exposure\"] = train[\"Bsmt Exposure\"].astype(int)\n",
    "\n",
    "test[\"Bsmt Exposure\"] = pd.Categorical(test[\"Bsmt Exposure\"]).codes\n",
    "test[\"Bsmt Exposure\"] = test[\"Bsmt Exposure\"].astype(int)\n",
    "\n",
    "#Kitchen Quality\n",
    "train[\"Kitchen Qual\"] = pd.Categorical(train[\"Kitchen Qual\"]).codes\n",
    "train[\"Kitchen Qual\"] = train[\"Kitchen Qual\"].astype(int)\n",
    "\n",
    "test[\"Kitchen Qual\"] = pd.Categorical(test[\"Kitchen Qual\"]).codes\n",
    "test[\"Kitchen Qual\"] = test[\"Kitchen Qual\"].astype(int)\n",
    "\n",
    "test[\"Kitchen AbvGr\"] = pd.Categorical(test[\"Kitchen AbvGr\"]).astype(int)\n",
    "\n",
    "#Fireplace Quality\n",
    "train[\"Fireplace Qu\"] = pd.Categorical(train[\"Fireplace Qu\"]).codes\n",
    "train[\"Fireplace Qu\"] = train[\"Fireplace Qu\"].astype(int)\n",
    "\n",
    "test[\"Fireplace Qu\"] = pd.Categorical(test[\"Fireplace Qu\"]).codes\n",
    "test[\"Fireplace Qu\"] = test[\"Fireplace Qu\"].astype(int)\n",
    "\n",
    "#Pool Quality\n",
    "train[\"Pool QC\"] = pd.Categorical(train[\"Pool QC\"]).codes\n",
    "train[\"Pool QC\"] = train[\"Pool QC\"].astype(float)\n",
    "\n",
    "test[\"Pool QC\"] = pd.Categorical(test[\"Pool QC\"]).codes\n",
    "test[\"Pool QC\"] = test[\"Pool QC\"].astype(float)\n",
    "\n",
    "\n",
    "#Total all the Square Feet \n",
    "train[\"Total_SF\"] = train[\"Total Bsmt SF\"] + train[\"1st Flr SF\"] + train[\"2nd Flr SF\"]\n",
    "test[\"Total_SF\"] = train[\"Total Bsmt SF\"] + test[\"1st Flr SF\"] + test[\"2nd Flr SF\"]\n",
    "\n",
    "train[\"Lot Frontage\"] = train[\"Lot Frontage\"]/140\n",
    "test[\"Lot Frontage\"] = test[\"Lot Frontage\"]/140\n",
    "\n",
    "#Calculated Overall Grade of the property based upon the quality and condition\n",
    "train[\"OverallGrade\"] = train[\"Overall Qual\"] * train[\"Overall Cond\"]\n",
    "test[\"OverallGrade\"] = test[\"Overall Qual\"] * test[\"Overall Cond\"]\n",
    "\n",
    "#Calculated total square feet of porch\n",
    "train[\"TotalPorchSF\"] = train[\"Open Porch SF\"] + train[\"Enclosed Porch\"] + train[\"3Ssn Porch\"] + train[\"Screen Porch\"]\n",
    "test[\"TotalPorchSF\"] = test[\"Open Porch SF\"] + test[\"Enclosed Porch\"] + test[\"3Ssn Porch\"] + test[\"Screen Porch\"]\n",
    "\n",
    "#Calculated how good the garage is by its quality and condition\n",
    "train[\"GarageGrade\"] = train[\"Garage Qual\"] * train[\"Garage Cond\"]\n",
    "test[\"GarageGrade\"] = test[\"Garage Qual\"] * test[\"Garage Cond\"]\n",
    "\n",
    "#Calculated how good the basement is\n",
    "train[\"BasementGrade\"] = train[\"Bsmt Qual\"] * train[\"Bsmt Cond\"] \n",
    "test[\"BasementGrade\"] = test[\"Bsmt Qual\"] * test[\"Bsmt Cond\"]\n",
    "\n",
    "#Calculated how good the fireplace is\n",
    "train[\"FireplaceScore\"] = train[\"Fireplaces\"] * train[\"Fireplace Qu\"]\n",
    "test[\"FireplaceScore\"] = test[\"Fireplaces\"] * test[\"Fireplace Qu\"]\n",
    "\n",
    "train[\"KitchenGrade\"] = train[\"Kitchen Qual\"] * train[\"Kitchen AbvGr\"]\n",
    "test[\"KitchenGrade\"] = test[\"Kitchen Qual\"] * test[\"Kitchen AbvGr\"]\n"
   ]
  },
  {
   "cell_type": "code",
   "execution_count": 5,
   "metadata": {},
   "outputs": [],
   "source": [
    "numerical_features = list(train._get_numeric_data().drop([\"Id\", \"PID\", \"SalePrice\", \"MS SubClass\", \"Mo Sold\"], axis=1))"
   ]
  },
  {
   "cell_type": "markdown",
   "metadata": {},
   "source": [
    "Remove the outliers from the data. Outliers are any values that are greater than 3 standard deviations from the mean. "
   ]
  },
  {
   "cell_type": "code",
   "execution_count": 6,
   "metadata": {},
   "outputs": [],
   "source": [
    "# #Remove the outliers on both ends of the scale\n",
    "for feature in numerical_features:\n",
    "    train[feature].fillna(train[feature].mean(), inplace = True)\n",
    "    test[feature].fillna(test[feature].mean(), inplace = True)\n",
    "    train[np.abs(train[feature]-train[feature].mean()) <= (3*train[feature].std())]\n",
    "    test[np.abs(test[feature]-test[feature].mean()) <= (3*test[feature].std())]\n",
    "    train[np.abs(train[feature]-train[feature].mean()) >= (3*train[feature].std())]\n",
    "    test[np.abs(test[feature]-test[feature].mean()) >= (3*test[feature].std())]"
   ]
  },
  {
   "cell_type": "markdown",
   "metadata": {},
   "source": [
    "Use the XGBRegressor and the fine tune the model with the maximum alpha to ensure better performance. "
   ]
  },
  {
   "cell_type": "code",
   "execution_count": 62,
   "metadata": {},
   "outputs": [
    {
     "name": "stdout",
     "output_type": "stream",
     "text": [
      "0.9176241154708668\n",
      "{'reg_alpha': 100000.0}\n"
     ]
    }
   ],
   "source": [
    "#to find the max log alpha using logspace\n",
    "params = {}\n",
    "alphas = np.logspace(5,8, num = 10)\n",
    "params = {'reg_alpha': alphas}\n",
    "\n",
    "#input the max alpha into the grid search cv \n",
    "gs = GridSearchCV(XGBRegressor(learning_rate=0.08,max_depth=6,n_estimators=120, colsample_bytree = 0.35, verbose=1, gamma=5), param_grid = params)\n",
    "gs.fit(train[numerical_features], train[\"SalePrice\"])\n",
    "print(gs.best_score_)\n",
    "print(gs.best_params_)"
   ]
  },
  {
   "cell_type": "markdown",
   "metadata": {},
   "source": [
    "## Categorical Data"
   ]
  },
  {
   "cell_type": "code",
   "execution_count": 7,
   "metadata": {},
   "outputs": [],
   "source": [
    "categorical_columns = list(train.select_dtypes(include=[\"object\"]).columns)\n",
    "for col in categorical_columns:\n",
    "    train[col].fillna(\"N/A\", inplace = True)\n",
    "    test[col].fillna(\"N/A\", inplace = True)\n",
    "    train_values = sorted(list(train[col].unique()))\n",
    "    test_values = sorted(list(test[col].unique()))\n",
    "    categories = set(train_values + test_values)\n",
    "    test[col] = pd.Categorical(test[col], categories = categories)\n",
    "    train[col] = pd.Categorical(train[col], categories = categories)"
   ]
  },
  {
   "cell_type": "code",
   "execution_count": 8,
   "metadata": {},
   "outputs": [],
   "source": [
    "train_dummies = pd.get_dummies(train[categorical_columns])\n",
    "test_dummies = pd.get_dummies(test[categorical_columns])"
   ]
  },
  {
   "cell_type": "code",
   "execution_count": 55,
   "metadata": {},
   "outputs": [],
   "source": [
    "X_train = pd.concat([train_dummies, train[numerical_features]], axis = 1)\n",
    "X_test = pd.concat([test_dummies, test[numerical_features]], axis = 1)"
   ]
  },
  {
   "cell_type": "markdown",
   "metadata": {},
   "source": [
    "## Model"
   ]
  },
  {
   "cell_type": "markdown",
   "metadata": {},
   "source": [
    "After we add the categorical features into our model, we want to once again use XGBRegressor and optimize this algorithm by finding the maximum alpha. "
   ]
  },
  {
   "cell_type": "code",
   "execution_count": 63,
   "metadata": {},
   "outputs": [
    {
     "name": "stdout",
     "output_type": "stream",
     "text": [
      "0.9204215653275377\n",
      "{'reg_alpha': 100000.0}\n"
     ]
    }
   ],
   "source": [
    "#to find the max log alpha using logspace\n",
    "\n",
    "alphas = np.logspace(5,8, num = 10)\n",
    "params = {'reg_alpha': alphas}\n",
    "\n",
    "#http://scikit-learn.org/stable/modules/classes.html#module-sklearn.model_selection\n",
    "\n",
    "#input the max alpha into the grid search cv \n",
    "gs = GridSearchCV(XGBRegressor(learning_rate=0.1,max_depth=3,n_estimators=1500, colsample_bytree = 0.35, gamma=5,early_stopping_rounds=5), param_grid = params)\n",
    "gs.fit(X_train, train[\"SalePrice\"])\n",
    "print(gs.best_score_)\n",
    "print(gs.best_params_)"
   ]
  },
  {
   "cell_type": "markdown",
   "metadata": {},
   "source": [
    "We now use our model to predict housing prices."
   ]
  },
  {
   "cell_type": "code",
   "execution_count": 64,
   "metadata": {},
   "outputs": [],
   "source": [
    "pred = gs.predict(X_test)"
   ]
  },
  {
   "cell_type": "markdown",
   "metadata": {},
   "source": [
    "### Submission to Kaggle"
   ]
  },
  {
   "cell_type": "markdown",
   "metadata": {},
   "source": [
    "This will write two rows of data to the submission.csv file: One which is the ID and the other is the predicted housing price. "
   ]
  },
  {
   "cell_type": "code",
   "execution_count": 65,
   "metadata": {},
   "outputs": [],
   "source": [
    "test[\"SalePrice\"] = pred"
   ]
  },
  {
   "cell_type": "code",
   "execution_count": 66,
   "metadata": {},
   "outputs": [],
   "source": [
    "test[['Id','SalePrice']].to_csv('submission.csv', index = False)"
   ]
  }
 ],
 "metadata": {
  "kernelspec": {
   "display_name": "Python [conda env:dsi]",
   "language": "python",
   "name": "conda-env-dsi-py"
  },
  "language_info": {
   "codemirror_mode": {
    "name": "ipython",
    "version": 3
   },
   "file_extension": ".py",
   "mimetype": "text/x-python",
   "name": "python",
   "nbconvert_exporter": "python",
   "pygments_lexer": "ipython3",
   "version": "3.6.5"
  }
 },
 "nbformat": 4,
 "nbformat_minor": 2
}
